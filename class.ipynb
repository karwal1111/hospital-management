{
 "cells": [
  {
   "attachments": {},
   "cell_type": "markdown",
   "metadata": {},
   "source": [
    "Creating a Class and object"
   ]
  },
  {
   "cell_type": "code",
   "execution_count": 2,
   "metadata": {},
   "outputs": [],
   "source": [
    "class student:\n",
    "    pass\n",
    "    "
   ]
  },
  {
   "cell_type": "code",
   "execution_count": 3,
   "metadata": {},
   "outputs": [
    {
     "name": "stdout",
     "output_type": "stream",
     "text": [
      "<class '__main__.student'>\n",
      "<class 'list'>\n"
     ]
    }
   ],
   "source": [
    "s1=student()\n",
    "print(type(s1))\n",
    "l=list()\n",
    "print(type(l))"
   ]
  },
  {
   "cell_type": "code",
   "execution_count": 4,
   "metadata": {},
   "outputs": [
    {
     "name": "stdout",
     "output_type": "stream",
     "text": [
      "<__main__.student object at 0x000002A840F97E10> <__main__.student object at 0x000002A842A29350>\n"
     ]
    }
   ],
   "source": [
    "s2=student()\n",
    "s3=student()\n",
    "print(s2,s3)"
   ]
  },
  {
   "attachments": {},
   "cell_type": "markdown",
   "metadata": {},
   "source": [
    "Instancess\n"
   ]
  },
  {
   "cell_type": "code",
   "execution_count": 5,
   "metadata": {},
   "outputs": [
    {
     "name": "stdout",
     "output_type": "stream",
     "text": [
      "Abhishek\n"
     ]
    }
   ],
   "source": [
    "s1.name=\"Abhishek\"\n",
    "print(s1.name)\n",
    "s2.rollnumber=12\n",
    "s3.name=\"karwal\"\n",
    "s3.rollnumber=13\n"
   ]
  },
  {
   "cell_type": "code",
   "execution_count": 6,
   "metadata": {},
   "outputs": [
    {
     "data": {
      "text/plain": [
       "{'name': 'karwal', 'rollnumber': 13}"
      ]
     },
     "execution_count": 6,
     "metadata": {},
     "output_type": "execute_result"
    }
   ],
   "source": [
    "s3.__dict__"
   ]
  },
  {
   "attachments": {},
   "cell_type": "markdown",
   "metadata": {},
   "source": [
    "Here's how you do it, object.key=value it'll crete a dictionary"
   ]
  },
  {
   "cell_type": "code",
   "execution_count": 7,
   "metadata": {},
   "outputs": [],
   "source": [
    "#hasattr(s1,\"name\") # to check if an attribute has an value\n",
    "hasattr(s2,\"name\")# this will return true or false after checking if the attribute has an value or not\n",
    "#getattr(s2,\"rollnmber\")# to get the attribute value\n",
    "getattr(s2,\"name\",\"krishna\")# if the attribute is not valid it will assign the third argument and set it to it.\n",
    "delattr(s1,\"name\")#to remove the attribute"
   ]
  },
  {
   "cell_type": "code",
   "execution_count": 8,
   "metadata": {},
   "outputs": [
    {
     "data": {
      "text/plain": [
       "{'rollnumber': 12}"
      ]
     },
     "execution_count": 8,
     "metadata": {},
     "output_type": "execute_result"
    }
   ],
   "source": [
    "s2.__dict__"
   ]
  },
  {
   "attachments": {},
   "cell_type": "markdown",
   "metadata": {},
   "source": [
    "Init method"
   ]
  },
  {
   "cell_type": "code",
   "execution_count": 9,
   "metadata": {},
   "outputs": [],
   "source": [
    "class student:\n",
    "    def __init__(self,name,rollnumber):#self is being pased on\n",
    "        self.name=name\n",
    "        self.rollnumber=rollnumber\n",
    "    def printStudent(self):\n",
    "        print(self.name,self.rollnumber)"
   ]
  },
  {
   "cell_type": "code",
   "execution_count": 10,
   "metadata": {},
   "outputs": [
    {
     "data": {
      "text/plain": [
       "{'name': 'karwal', 'rollnumber': 2}"
      ]
     },
     "execution_count": 10,
     "metadata": {},
     "output_type": "execute_result"
    }
   ],
   "source": [
    "s1=student(\"Abhishek\",1)\n",
    "s2=student(\"karwal\",2)\n",
    "s2.__dict__"
   ]
  },
  {
   "attachments": {},
   "cell_type": "markdown",
   "metadata": {},
   "source": [
    "Instance method here we want the object to go and execute themself like print themselves or something"
   ]
  },
  {
   "cell_type": "code",
   "execution_count": 11,
   "metadata": {},
   "outputs": [
    {
     "name": "stdout",
     "output_type": "stream",
     "text": [
      "Hello 12\n"
     ]
    }
   ],
   "source": [
    "s1=student(\"Hello\",12)\n",
    "#s2.printStudent()# look like this way student.printstudent(s2)\n",
    "student.printStudent(s1)"
   ]
  },
  {
   "attachments": {},
   "cell_type": "markdown",
   "metadata": {},
   "source": [
    "Fraction Class"
   ]
  },
  {
   "cell_type": "code",
   "execution_count": 12,
   "metadata": {},
   "outputs": [],
   "source": [
    "class fraction:\n",
    "    def __init__(self,num=0,den=1):\n",
    "        if den==0:\n",
    "            den=1\n",
    "        self.num=num\n",
    "        self.den=den\n",
    "    def printfraction(self):\n",
    "        if self.num==0:\n",
    "            print(0)\n",
    "        elif self.den==1:\n",
    "            print(self.num)\n",
    "        else:\n",
    "            print(self.num,'/',self.den)\n",
    "    def simplify(self):\n",
    "        if self.num==0:\n",
    "            self.den=1\n",
    "            return\n",
    "        current=min(self.num,self.den)\n",
    "        while current>1:\n",
    "            if self.num%current==0 and self.den%current==0:\n",
    "                break\n",
    "            current-=1\n",
    "        self.num=self.num//current\n",
    "        self.den=self.den//current    \n",
    "    def add(self,other):\n",
    "        newnum=other.den*self.num+self.den*other.num\n",
    "        newden=other.den*self.den\n",
    "        self.num=newnum\n",
    "        self.den=newden\n",
    "        self.simplify()\n",
    "    def multipy(self,other):\n",
    "        newnum=self.num*other.num\n",
    "        newden=self.den*other.den\n",
    "        self.num=newnum\n",
    "        self.den=newden\n",
    "        self.simplify()"
   ]
  },
  {
   "cell_type": "code",
   "execution_count": 13,
   "metadata": {},
   "outputs": [
    {
     "name": "stdout",
     "output_type": "stream",
     "text": [
      "3 / 8\n"
     ]
    }
   ],
   "source": [
    "f1=fraction(0,0)\n",
    "\n",
    "f1.simplify()\n",
    "#f1.printfraction()\n",
    "f1=fraction(1,2)\n",
    "f2=fraction(3,4)\n",
    "f1.multipy(f2)\n",
    "f1.printfraction()"
   ]
  },
  {
   "cell_type": "code",
   "execution_count": 14,
   "metadata": {},
   "outputs": [],
   "source": [
    "class complex:\n",
    "    def __init__(self,real,img):\n",
    "        self.real=real\n",
    "        self.img=img\n",
    "    def print(self):\n",
    "        print(self.real,'+ i',self.img)\n",
    "    def add(self,other):\n",
    "        newreal=self.real+other.real\n",
    "        newimg=self.img+other.img\n",
    "        self.real=newreal\n",
    "        self.img=newimg\n",
    "    def multiply(self,other):\n",
    "        newreal=self.real*other.real-self.img*other.img\n",
    "        newimg=self.real*other.img+self.img*other.real\n",
    "        newimg=newimg\n",
    "        self.real=newreal\n",
    "        self.img=newimg\n",
    "        self.print()\n"
   ]
  },
  {
   "cell_type": "code",
   "execution_count": 15,
   "metadata": {},
   "outputs": [
    {
     "name": "stdout",
     "output_type": "stream",
     "text": [
      "-6 + i 8\n"
     ]
    }
   ],
   "source": [
    "c=complex(1,2)\n",
    "c2=complex(2,4)\n",
    "c.multiply(c2)\n"
   ]
  },
  {
   "attachments": {},
   "cell_type": "markdown",
   "metadata": {},
   "source": [
    "We'll talk about Class methods we have two type of methods static and class methods, static methods don't take any attribute and are labelled as @staticmethod whereas in class methods we return some value and are labelled as @classmethod"
   ]
  },
  {
   "attachments": {},
   "cell_type": "markdown",
   "metadata": {},
   "source": [
    "Public and private, anything which is defined by __ is taken as private and can only be accessed by that function or it's object.\n",
    "one more way that is taboo and is not recommended print(obj._classname__nameofvariable) read more about it."
   ]
  },
  {
   "attachments": {},
   "cell_type": "markdown",
   "metadata": {},
   "source": [
    "#Inheritance in Python concept of parent class and derived class"
   ]
  },
  {
   "cell_type": "code",
   "execution_count": 16,
   "metadata": {},
   "outputs": [],
   "source": [
    "class vehicle:\n",
    "    def __init__(self,color,maxspeed):\n",
    "        self.color=color\n",
    "        self.maxspeed=maxspeed\n",
    "class car(vehicle):\n",
    "    def __init__(self, color, maxspeed,numGear,isConvertible):\n",
    "        super().__init__(color, maxspeed)\n",
    "        self.numGear=numGear\n",
    "        self.isConvertible=isConvertible\n",
    "    def printcar(self):\n",
    "        print(\"color:\",self.color)\n",
    "        print(\"maxspeed:\",self.maxspeed)\n",
    "        print(\"numGear:\",self.numGear)\n",
    "        print(\"isConvertible:\",self.isConvertible)\n"
   ]
  },
  {
   "attachments": {},
   "cell_type": "markdown",
   "metadata": {},
   "source": [
    "Super can be used to acccess the parent class"
   ]
  },
  {
   "cell_type": "code",
   "execution_count": 17,
   "metadata": {},
   "outputs": [
    {
     "name": "stdout",
     "output_type": "stream",
     "text": [
      "color: red\n",
      "maxspeed: 177\n",
      "numGear: 5\n",
      "isConvertible: False\n"
     ]
    }
   ],
   "source": [
    "v=car(\"red\",177,5,False)\n",
    "v.printcar()"
   ]
  },
  {
   "attachments": {},
   "cell_type": "markdown",
   "metadata": {},
   "source": [
    "Inheritance with Private members"
   ]
  },
  {
   "cell_type": "code",
   "execution_count": 18,
   "metadata": {},
   "outputs": [],
   "source": [
    "class vehicle:\n",
    "    def __init__(self,color,maxspeed):\n",
    "        self.color=color\n",
    "        self.__maxspeed=maxspeed\n",
    "    def getMaxSpeed(self):\n",
    "        return self.__maxspeed\n",
    "    def setManSpeed(self,maxspeed):\n",
    "        self.__maxspeed=maxspeed\n",
    "class car(vehicle):\n",
    "    def __init__(self, color, maxspeed,numGear,isConvertible):\n",
    "        super().__init__(color, maxspeed)\n",
    "        self.numGear=numGear\n",
    "        self.isConvertible=isConvertible\n",
    "    def printcar(self):\n",
    "        print(\"color:\",self.color)\n",
    "        print(\"maxspeed:\",self.getMaxSpeed())\n",
    "        print(\"numGear:\",self.numGear)\n",
    "        print(\"isConvertible:\",self.isConvertible)\n"
   ]
  },
  {
   "cell_type": "code",
   "execution_count": 19,
   "metadata": {},
   "outputs": [
    {
     "name": "stdout",
     "output_type": "stream",
     "text": [
      "177\n"
     ]
    }
   ],
   "source": [
    "v=car(\"red\",177,5,False)\n",
    "#v.setManSpeed(180)\n",
    "#v.printcar()\n",
    "print(v._vehicle__maxspeed)"
   ]
  },
  {
   "attachments": {},
   "cell_type": "markdown",
   "metadata": {},
   "source": [
    "Inheritance Continue, in this we'll see the use of super in derived class to print or access member of it's parent class."
   ]
  },
  {
   "cell_type": "code",
   "execution_count": 20,
   "metadata": {},
   "outputs": [],
   "source": [
    "class vehicle:\n",
    "    def __init__(self,color,maxspeed):\n",
    "        self.color=color\n",
    "        self.__maxspeed=maxspeed\n",
    "    def getMaxSpeed(self):\n",
    "        return self.__maxspeed\n",
    "    def setManSpeed(self,maxspeed):\n",
    "        self.__maxspeed=maxspeed\n",
    "    def print(self):\n",
    "        print(\"Color:\",self.color)\n",
    "        print(\"maxspeed:\",self.__maxspeed)\n",
    "class car(vehicle):\n",
    "    def __init__(self, color, maxspeed,numGear,isConvertible):\n",
    "        super().__init__(color, maxspeed)\n",
    "        self.numGear=numGear\n",
    "        self.isConvertible=isConvertible\n",
    "    def printcar(self):\n",
    "        self.print()#self and super both works the diff will be seen in next case\n",
    "        #super().print()\n",
    "        print(\"numGear:\",self.numGear)\n",
    "        print(\"isConvertible:\",self.isConvertible)\n"
   ]
  },
  {
   "cell_type": "code",
   "execution_count": 21,
   "metadata": {},
   "outputs": [
    {
     "name": "stdout",
     "output_type": "stream",
     "text": [
      "Color: Red\n",
      "maxspeed: 251\n",
      "numGear: 6\n",
      "isConvertible: True\n"
     ]
    }
   ],
   "source": [
    "c=car(\"Red\",251,6,True)\n",
    "c.printcar()"
   ]
  },
  {
   "attachments": {},
   "cell_type": "markdown",
   "metadata": {},
   "source": [
    "Method Overiding\n",
    "Polymorphism: Ability to take multiple form, one thing can have two forms.\n",
    "What if in Car function earlier it was printcar we replaced with print, now we have two print functions"
   ]
  },
  {
   "cell_type": "code",
   "execution_count": 22,
   "metadata": {},
   "outputs": [],
   "source": [
    "class vehicle:\n",
    "    def __init__(self,color,maxspeed):\n",
    "        self.color=color\n",
    "        self.__maxspeed=maxspeed\n",
    "    def getMaxSpeed(self):\n",
    "        return self.__maxspeed\n",
    "    def setManSpeed(self,maxspeed):\n",
    "        self.__maxspeed=maxspeed\n",
    "    def print(self):\n",
    "        print(\"Color:\",self.color)\n",
    "        print(\"maxspeed:\",self.__maxspeed)\n",
    "class car(vehicle):\n",
    "    def __init__(self, color, maxspeed,numGear,isConvertible):\n",
    "        super().__init__(color, maxspeed)\n",
    "        self.numGear=numGear\n",
    "        self.isConvertible=isConvertible\n",
    "    def print(self):\n",
    "        super().print()\n",
    "        #super().print()\n",
    "        print(\"numGear:\",self.numGear)\n",
    "        print(\"isConvertible:\",self.isConvertible)\n"
   ]
  },
  {
   "cell_type": "code",
   "execution_count": 23,
   "metadata": {},
   "outputs": [
    {
     "name": "stdout",
     "output_type": "stream",
     "text": [
      "Color: Red\n",
      "maxspeed: 222\n",
      "numGear: 4\n",
      "isConvertible: True\n"
     ]
    }
   ],
   "source": [
    "c=car(\"Red\",222,4,True)\n",
    "c.print()"
   ]
  },
  {
   "attachments": {},
   "cell_type": "markdown",
   "metadata": {},
   "source": [
    "Protected Data Member declared by \"_\"  It work just like a varibale but nameconvention dictated that it's a protected member and it's a plea to all sensible programmers to not modify it. declared by _maxspeed"
   ]
  },
  {
   "cell_type": "code",
   "execution_count": 24,
   "metadata": {},
   "outputs": [],
   "source": [
    "class vehicle:\n",
    "    def __init__(self,color,maxspeed):\n",
    "        self.color=color\n",
    "        self._maxspeed=maxspeed\n",
    "    def getMaxSpeed(self):\n",
    "        return self._maxspeed\n",
    "    def setManSpeed(self,maxspeed):\n",
    "        self._maxspeed=maxspeed\n",
    "    def print(self):\n",
    "        print(\"Color:\",self.color)\n",
    "        print(\"maxspeed:\",self._maxspeed)\n",
    "class car(vehicle):\n",
    "    def __init__(self, color, maxspeed,numGear,isConvertible):\n",
    "        super().__init__(color, maxspeed)\n",
    "        self.numGear=numGear\n",
    "        self.isConvertible=isConvertible\n",
    "    def print(self):\n",
    "        super().print()\n",
    "        #super().print()\n",
    "        print(\"numGear:\",self.numGear)\n",
    "        print(\"isConvertible:\",self.isConvertible)\n"
   ]
  },
  {
   "cell_type": "code",
   "execution_count": 25,
   "metadata": {},
   "outputs": [
    {
     "name": "stdout",
     "output_type": "stream",
     "text": [
      "Color: Red\n",
      "maxspeed: 222\n",
      "numGear: 4\n",
      "isConvertible: True\n",
      "Color: Red\n",
      "maxspeed: 222\n",
      "numGear: 4\n",
      "isConvertible: True\n"
     ]
    }
   ],
   "source": [
    "c=car(\"Red\",222,4,True)\n",
    "c.print()\n",
    "v=vehicle(\"red\",150)\n",
    "v.setManSpeed=180\n",
    "c.print()"
   ]
  },
  {
   "attachments": {},
   "cell_type": "markdown",
   "metadata": {},
   "source": [
    "Object Class: By default every class inherit from object\n",
    "Mostly from these \n",
    "__new__ For new objects we don't override this\n",
    "__init__ To initialize an object\n",
    "__str__ to set a default message whevnever that function is called"
   ]
  },
  {
   "attachments": {},
   "cell_type": "markdown",
   "metadata": {},
   "source": [
    "Abstract class these contain abstract method, declared but no implementation, use case it can be use as a base class which would be commo with derived class and derived class can"
   ]
  }
 ],
 "metadata": {
  "kernelspec": {
   "display_name": "Python 3",
   "language": "python",
   "name": "python3"
  },
  "language_info": {
   "codemirror_mode": {
    "name": "ipython",
    "version": 3
   },
   "file_extension": ".py",
   "mimetype": "text/x-python",
   "name": "python",
   "nbconvert_exporter": "python",
   "pygments_lexer": "ipython3",
   "version": "3.11.1"
  },
  "orig_nbformat": 4
 },
 "nbformat": 4,
 "nbformat_minor": 2
}
